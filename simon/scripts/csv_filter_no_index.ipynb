{
 "cells": [
  {
   "cell_type": "code",
   "execution_count": 22,
   "metadata": {},
   "outputs": [],
   "source": [
    "import pandas as pd\n",
    "import numpy as np"
   ]
  },
  {
   "cell_type": "markdown",
   "metadata": {},
   "source": [
    "read csv"
   ]
  },
  {
   "cell_type": "code",
   "execution_count": 23,
   "metadata": {},
   "outputs": [],
   "source": [
    "df = pd.read_csv('..\\\\data\\\\sound_track_imdb_top_250_movie_tv_series.csv', delimiter=\",\", index_col=0)\n"
   ]
  },
  {
   "cell_type": "code",
   "execution_count": 24,
   "metadata": {},
   "outputs": [
    {
     "data": {
      "text/plain": [
       "Index(['name', 'year', 'song_name', 'written_by', 'performed_by',\n",
       "       'composed_by', 'lyrics_by', 'written_performed_by', 'music_by',\n",
       "       'courtesy_of', 'conducted_by', 'libretto_by', 'under_license_from'],\n",
       "      dtype='object')"
      ]
     },
     "execution_count": 24,
     "metadata": {},
     "output_type": "execute_result"
    }
   ],
   "source": [
    "df.columns"
   ]
  },
  {
   "cell_type": "markdown",
   "metadata": {},
   "source": [
    "select the needed columns and create new df"
   ]
  },
  {
   "cell_type": "code",
   "execution_count": 25,
   "metadata": {},
   "outputs": [
    {
     "data": {
      "text/html": [
       "<div>\n",
       "<style scoped>\n",
       "    .dataframe tbody tr th:only-of-type {\n",
       "        vertical-align: middle;\n",
       "    }\n",
       "\n",
       "    .dataframe tbody tr th {\n",
       "        vertical-align: top;\n",
       "    }\n",
       "\n",
       "    .dataframe thead th {\n",
       "        text-align: right;\n",
       "    }\n",
       "</style>\n",
       "<table border=\"1\" class=\"dataframe\">\n",
       "  <thead>\n",
       "    <tr style=\"text-align: right;\">\n",
       "      <th></th>\n",
       "      <th>name</th>\n",
       "      <th>year</th>\n",
       "      <th>song_name</th>\n",
       "      <th>performed_by</th>\n",
       "    </tr>\n",
       "  </thead>\n",
       "  <tbody>\n",
       "    <tr>\n",
       "      <th>0</th>\n",
       "      <td>The Shawshank Redemption</td>\n",
       "      <td>1994</td>\n",
       "      <td>If I Didn't Care</td>\n",
       "      <td>The Ink Spots</td>\n",
       "    </tr>\n",
       "    <tr>\n",
       "      <th>1</th>\n",
       "      <td>The Shawshank Redemption</td>\n",
       "      <td>1994</td>\n",
       "      <td>Duettino - Sull'aria</td>\n",
       "      <td>Edith Mathis (uncredited) and Gundula Janowitz...</td>\n",
       "    </tr>\n",
       "    <tr>\n",
       "      <th>2</th>\n",
       "      <td>The Shawshank Redemption</td>\n",
       "      <td>1994</td>\n",
       "      <td>Put The Blame On Mame</td>\n",
       "      <td>NaN</td>\n",
       "    </tr>\n",
       "    <tr>\n",
       "      <th>3</th>\n",
       "      <td>The Shawshank Redemption</td>\n",
       "      <td>1994</td>\n",
       "      <td>Lovesick Blues</td>\n",
       "      <td>Hank Williams</td>\n",
       "    </tr>\n",
       "    <tr>\n",
       "      <th>4</th>\n",
       "      <td>The Shawshank Redemption</td>\n",
       "      <td>1994</td>\n",
       "      <td>Willie and The Hand Jive</td>\n",
       "      <td>NaN</td>\n",
       "    </tr>\n",
       "    <tr>\n",
       "      <th>...</th>\n",
       "      <td>...</td>\n",
       "      <td>...</td>\n",
       "      <td>...</td>\n",
       "      <td>...</td>\n",
       "    </tr>\n",
       "    <tr>\n",
       "      <th>3128</th>\n",
       "      <td>Love, Death &amp; Robots</td>\n",
       "      <td>2019</td>\n",
       "      <td>It looks like we don't have any Soundtracks fo...</td>\n",
       "      <td>NaN</td>\n",
       "    </tr>\n",
       "    <tr>\n",
       "      <th>3129</th>\n",
       "      <td>Foyle's War</td>\n",
       "      <td>2002</td>\n",
       "      <td>It looks like we don't have any Soundtracks fo...</td>\n",
       "      <td>NaN</td>\n",
       "    </tr>\n",
       "    <tr>\n",
       "      <th>3130</th>\n",
       "      <td>Jesus of Nazareth</td>\n",
       "      <td>1977</td>\n",
       "      <td>It looks like we don't have any Soundtracks fo...</td>\n",
       "      <td>NaN</td>\n",
       "    </tr>\n",
       "    <tr>\n",
       "      <th>3131</th>\n",
       "      <td>Luther</td>\n",
       "      <td>2010</td>\n",
       "      <td>Paradise Circus</td>\n",
       "      <td>Massive Attack</td>\n",
       "    </tr>\n",
       "    <tr>\n",
       "      <th>3132</th>\n",
       "      <td>Ethos</td>\n",
       "      <td>2020</td>\n",
       "      <td>It looks like we don't have any Soundtracks fo...</td>\n",
       "      <td>NaN</td>\n",
       "    </tr>\n",
       "  </tbody>\n",
       "</table>\n",
       "<p>3133 rows × 4 columns</p>\n",
       "</div>"
      ],
      "text/plain": [
       "                          name  year  \\\n",
       "0     The Shawshank Redemption  1994   \n",
       "1     The Shawshank Redemption  1994   \n",
       "2     The Shawshank Redemption  1994   \n",
       "3     The Shawshank Redemption  1994   \n",
       "4     The Shawshank Redemption  1994   \n",
       "...                        ...   ...   \n",
       "3128      Love, Death & Robots  2019   \n",
       "3129               Foyle's War  2002   \n",
       "3130         Jesus of Nazareth  1977   \n",
       "3131                    Luther  2010   \n",
       "3132                     Ethos  2020   \n",
       "\n",
       "                                              song_name  \\\n",
       "0                                     If I Didn't Care    \n",
       "1                                 Duettino - Sull'aria    \n",
       "2                                Put The Blame On Mame    \n",
       "3                                       Lovesick Blues    \n",
       "4                             Willie and The Hand Jive    \n",
       "...                                                 ...   \n",
       "3128  It looks like we don't have any Soundtracks fo...   \n",
       "3129  It looks like we don't have any Soundtracks fo...   \n",
       "3130  It looks like we don't have any Soundtracks fo...   \n",
       "3131                                   Paradise Circus    \n",
       "3132  It looks like we don't have any Soundtracks fo...   \n",
       "\n",
       "                                           performed_by  \n",
       "0                                        The Ink Spots   \n",
       "1     Edith Mathis (uncredited) and Gundula Janowitz...  \n",
       "2                                                   NaN  \n",
       "3                                        Hank Williams   \n",
       "4                                                   NaN  \n",
       "...                                                 ...  \n",
       "3128                                                NaN  \n",
       "3129                                                NaN  \n",
       "3130                                                NaN  \n",
       "3131                                     Massive Attack  \n",
       "3132                                                NaN  \n",
       "\n",
       "[3133 rows x 4 columns]"
      ]
     },
     "execution_count": 25,
     "metadata": {},
     "output_type": "execute_result"
    }
   ],
   "source": [
    "df_selected = df.loc[:,['name','year','song_name','performed_by']]\n",
    "df_selected"
   ]
  },
  {
   "cell_type": "code",
   "execution_count": 26,
   "metadata": {},
   "outputs": [],
   "source": [
    "# df_selected['performed_by'].isna().sum()"
   ]
  },
  {
   "cell_type": "code",
   "execution_count": 27,
   "metadata": {},
   "outputs": [],
   "source": [
    "# filter_mask = df_selected['song_name'] == \"It looks like we don't have any Soundtracks for this title yet.\"\n",
    "# filter_mask.sum()\n"
   ]
  },
  {
   "cell_type": "code",
   "execution_count": 28,
   "metadata": {},
   "outputs": [],
   "source": [
    "# df_selected[filter_mask]"
   ]
  },
  {
   "cell_type": "markdown",
   "metadata": {},
   "source": [
    "replace \"it looks like we don't ....\" with NaN"
   ]
  },
  {
   "cell_type": "code",
   "execution_count": 29,
   "metadata": {},
   "outputs": [],
   "source": [
    "df_selected.replace(\"It looks like we don't have any Soundtracks for this title yet.\", \"Not available\", inplace=True)"
   ]
  },
  {
   "cell_type": "code",
   "execution_count": 37,
   "metadata": {},
   "outputs": [
    {
     "data": {
      "text/html": [
       "<div>\n",
       "<style scoped>\n",
       "    .dataframe tbody tr th:only-of-type {\n",
       "        vertical-align: middle;\n",
       "    }\n",
       "\n",
       "    .dataframe tbody tr th {\n",
       "        vertical-align: top;\n",
       "    }\n",
       "\n",
       "    .dataframe thead th {\n",
       "        text-align: right;\n",
       "    }\n",
       "</style>\n",
       "<table border=\"1\" class=\"dataframe\">\n",
       "  <thead>\n",
       "    <tr style=\"text-align: right;\">\n",
       "      <th></th>\n",
       "      <th>year</th>\n",
       "      <th>song_name</th>\n",
       "      <th>performed_by</th>\n",
       "    </tr>\n",
       "    <tr>\n",
       "      <th>name</th>\n",
       "      <th></th>\n",
       "      <th></th>\n",
       "      <th></th>\n",
       "    </tr>\n",
       "  </thead>\n",
       "  <tbody>\n",
       "    <tr>\n",
       "      <th>12 Angry Men</th>\n",
       "      <td>1</td>\n",
       "      <td>1</td>\n",
       "      <td>0</td>\n",
       "    </tr>\n",
       "    <tr>\n",
       "      <th>12 Years a Slave</th>\n",
       "      <td>14</td>\n",
       "      <td>14</td>\n",
       "      <td>10</td>\n",
       "    </tr>\n",
       "    <tr>\n",
       "      <th>1883</th>\n",
       "      <td>1</td>\n",
       "      <td>1</td>\n",
       "      <td>0</td>\n",
       "    </tr>\n",
       "    <tr>\n",
       "      <th>1917</th>\n",
       "      <td>1</td>\n",
       "      <td>1</td>\n",
       "      <td>1</td>\n",
       "    </tr>\n",
       "    <tr>\n",
       "      <th>2001: A Space Odyssey</th>\n",
       "      <td>10</td>\n",
       "      <td>10</td>\n",
       "      <td>9</td>\n",
       "    </tr>\n",
       "    <tr>\n",
       "      <th>...</th>\n",
       "      <td>...</td>\n",
       "      <td>...</td>\n",
       "      <td>...</td>\n",
       "    </tr>\n",
       "    <tr>\n",
       "      <th>Yes, Prime Minister</th>\n",
       "      <td>1</td>\n",
       "      <td>1</td>\n",
       "      <td>0</td>\n",
       "    </tr>\n",
       "    <tr>\n",
       "      <th>Yojimbo</th>\n",
       "      <td>1</td>\n",
       "      <td>1</td>\n",
       "      <td>0</td>\n",
       "    </tr>\n",
       "    <tr>\n",
       "      <th>Young Justice</th>\n",
       "      <td>1</td>\n",
       "      <td>1</td>\n",
       "      <td>0</td>\n",
       "    </tr>\n",
       "    <tr>\n",
       "      <th>Your Lie in April</th>\n",
       "      <td>11</td>\n",
       "      <td>11</td>\n",
       "      <td>0</td>\n",
       "    </tr>\n",
       "    <tr>\n",
       "      <th>Your Name.</th>\n",
       "      <td>4</td>\n",
       "      <td>4</td>\n",
       "      <td>0</td>\n",
       "    </tr>\n",
       "  </tbody>\n",
       "</table>\n",
       "<p>493 rows × 3 columns</p>\n",
       "</div>"
      ],
      "text/plain": [
       "                       year  song_name  performed_by\n",
       "name                                                \n",
       "12 Angry Men              1          1             0\n",
       "12 Years a Slave         14         14            10\n",
       "1883                      1          1             0\n",
       "1917                      1          1             1\n",
       "2001: A Space Odyssey    10         10             9\n",
       "...                     ...        ...           ...\n",
       "Yes, Prime Minister       1          1             0\n",
       "Yojimbo                   1          1             0\n",
       "Young Justice             1          1             0\n",
       "Your Lie in April        11         11             0\n",
       "Your Name.                4          4             0\n",
       "\n",
       "[493 rows x 3 columns]"
      ]
     },
     "execution_count": 37,
     "metadata": {},
     "output_type": "execute_result"
    }
   ],
   "source": [
    "# df_selected.reset_index(drop=True, inplace=True)\n",
    "df_selected.groupby('name').count()"
   ]
  },
  {
   "cell_type": "markdown",
   "metadata": {},
   "source": [
    "write df_selected to csv file"
   ]
  },
  {
   "cell_type": "code",
   "execution_count": 31,
   "metadata": {},
   "outputs": [],
   "source": [
    "# df_selected.to_csv(\"..\\\\data\\\\filtered_movie_songs_no_idx.csv\", index=False)"
   ]
  }
 ],
 "metadata": {
  "kernelspec": {
   "display_name": "Python 3",
   "language": "python",
   "name": "python3"
  },
  "language_info": {
   "codemirror_mode": {
    "name": "ipython",
    "version": 3
   },
   "file_extension": ".py",
   "mimetype": "text/x-python",
   "name": "python",
   "nbconvert_exporter": "python",
   "pygments_lexer": "ipython3",
   "version": "3.11.4"
  }
 },
 "nbformat": 4,
 "nbformat_minor": 2
}
