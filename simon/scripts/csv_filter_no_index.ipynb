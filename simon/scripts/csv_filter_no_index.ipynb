{
 "cells": [
  {
   "cell_type": "code",
   "execution_count": 10,
   "metadata": {},
   "outputs": [],
   "source": [
    "import pandas as pd\n",
    "import numpy as np"
   ]
  },
  {
   "cell_type": "markdown",
   "metadata": {},
   "source": [
    "read csv"
   ]
  },
  {
   "cell_type": "code",
   "execution_count": 11,
   "metadata": {},
   "outputs": [],
   "source": [
    "df = pd.read_csv('..\\\\data\\\\sound_track_imdb_top_250_movie_tv_series.csv', delimiter=\",\", index_col=0)\n"
   ]
  },
  {
   "cell_type": "code",
   "execution_count": 12,
   "metadata": {},
   "outputs": [
    {
     "data": {
      "text/plain": [
       "Index(['name', 'year', 'song_name', 'written_by', 'performed_by',\n",
       "       'composed_by', 'lyrics_by', 'written_performed_by', 'music_by',\n",
       "       'courtesy_of', 'conducted_by', 'libretto_by', 'under_license_from'],\n",
       "      dtype='object')"
      ]
     },
     "execution_count": 12,
     "metadata": {},
     "output_type": "execute_result"
    }
   ],
   "source": [
    "df.columns"
   ]
  },
  {
   "cell_type": "markdown",
   "metadata": {},
   "source": [
    "select the needed columns and create new df"
   ]
  },
  {
   "cell_type": "code",
   "execution_count": 13,
   "metadata": {},
   "outputs": [
    {
     "data": {
      "text/html": [
       "<div>\n",
       "<style scoped>\n",
       "    .dataframe tbody tr th:only-of-type {\n",
       "        vertical-align: middle;\n",
       "    }\n",
       "\n",
       "    .dataframe tbody tr th {\n",
       "        vertical-align: top;\n",
       "    }\n",
       "\n",
       "    .dataframe thead th {\n",
       "        text-align: right;\n",
       "    }\n",
       "</style>\n",
       "<table border=\"1\" class=\"dataframe\">\n",
       "  <thead>\n",
       "    <tr style=\"text-align: right;\">\n",
       "      <th></th>\n",
       "      <th>name</th>\n",
       "      <th>year</th>\n",
       "      <th>song_name</th>\n",
       "      <th>performed_by</th>\n",
       "    </tr>\n",
       "  </thead>\n",
       "  <tbody>\n",
       "    <tr>\n",
       "      <th>0</th>\n",
       "      <td>The Shawshank Redemption</td>\n",
       "      <td>1994</td>\n",
       "      <td>If I Didn't Care</td>\n",
       "      <td>The Ink Spots</td>\n",
       "    </tr>\n",
       "    <tr>\n",
       "      <th>1</th>\n",
       "      <td>The Shawshank Redemption</td>\n",
       "      <td>1994</td>\n",
       "      <td>Duettino - Sull'aria</td>\n",
       "      <td>Edith Mathis (uncredited) and Gundula Janowitz...</td>\n",
       "    </tr>\n",
       "    <tr>\n",
       "      <th>2</th>\n",
       "      <td>The Shawshank Redemption</td>\n",
       "      <td>1994</td>\n",
       "      <td>Put The Blame On Mame</td>\n",
       "      <td>NaN</td>\n",
       "    </tr>\n",
       "    <tr>\n",
       "      <th>3</th>\n",
       "      <td>The Shawshank Redemption</td>\n",
       "      <td>1994</td>\n",
       "      <td>Lovesick Blues</td>\n",
       "      <td>Hank Williams</td>\n",
       "    </tr>\n",
       "    <tr>\n",
       "      <th>4</th>\n",
       "      <td>The Shawshank Redemption</td>\n",
       "      <td>1994</td>\n",
       "      <td>Willie and The Hand Jive</td>\n",
       "      <td>NaN</td>\n",
       "    </tr>\n",
       "    <tr>\n",
       "      <th>...</th>\n",
       "      <td>...</td>\n",
       "      <td>...</td>\n",
       "      <td>...</td>\n",
       "      <td>...</td>\n",
       "    </tr>\n",
       "    <tr>\n",
       "      <th>3128</th>\n",
       "      <td>Love, Death &amp; Robots</td>\n",
       "      <td>2019</td>\n",
       "      <td>It looks like we don't have any Soundtracks fo...</td>\n",
       "      <td>NaN</td>\n",
       "    </tr>\n",
       "    <tr>\n",
       "      <th>3129</th>\n",
       "      <td>Foyle's War</td>\n",
       "      <td>2002</td>\n",
       "      <td>It looks like we don't have any Soundtracks fo...</td>\n",
       "      <td>NaN</td>\n",
       "    </tr>\n",
       "    <tr>\n",
       "      <th>3130</th>\n",
       "      <td>Jesus of Nazareth</td>\n",
       "      <td>1977</td>\n",
       "      <td>It looks like we don't have any Soundtracks fo...</td>\n",
       "      <td>NaN</td>\n",
       "    </tr>\n",
       "    <tr>\n",
       "      <th>3131</th>\n",
       "      <td>Luther</td>\n",
       "      <td>2010</td>\n",
       "      <td>Paradise Circus</td>\n",
       "      <td>Massive Attack</td>\n",
       "    </tr>\n",
       "    <tr>\n",
       "      <th>3132</th>\n",
       "      <td>Ethos</td>\n",
       "      <td>2020</td>\n",
       "      <td>It looks like we don't have any Soundtracks fo...</td>\n",
       "      <td>NaN</td>\n",
       "    </tr>\n",
       "  </tbody>\n",
       "</table>\n",
       "<p>3133 rows × 4 columns</p>\n",
       "</div>"
      ],
      "text/plain": [
       "                          name  year  \\\n",
       "0     The Shawshank Redemption  1994   \n",
       "1     The Shawshank Redemption  1994   \n",
       "2     The Shawshank Redemption  1994   \n",
       "3     The Shawshank Redemption  1994   \n",
       "4     The Shawshank Redemption  1994   \n",
       "...                        ...   ...   \n",
       "3128      Love, Death & Robots  2019   \n",
       "3129               Foyle's War  2002   \n",
       "3130         Jesus of Nazareth  1977   \n",
       "3131                    Luther  2010   \n",
       "3132                     Ethos  2020   \n",
       "\n",
       "                                              song_name  \\\n",
       "0                                     If I Didn't Care    \n",
       "1                                 Duettino - Sull'aria    \n",
       "2                                Put The Blame On Mame    \n",
       "3                                       Lovesick Blues    \n",
       "4                             Willie and The Hand Jive    \n",
       "...                                                 ...   \n",
       "3128  It looks like we don't have any Soundtracks fo...   \n",
       "3129  It looks like we don't have any Soundtracks fo...   \n",
       "3130  It looks like we don't have any Soundtracks fo...   \n",
       "3131                                   Paradise Circus    \n",
       "3132  It looks like we don't have any Soundtracks fo...   \n",
       "\n",
       "                                           performed_by  \n",
       "0                                        The Ink Spots   \n",
       "1     Edith Mathis (uncredited) and Gundula Janowitz...  \n",
       "2                                                   NaN  \n",
       "3                                        Hank Williams   \n",
       "4                                                   NaN  \n",
       "...                                                 ...  \n",
       "3128                                                NaN  \n",
       "3129                                                NaN  \n",
       "3130                                                NaN  \n",
       "3131                                     Massive Attack  \n",
       "3132                                                NaN  \n",
       "\n",
       "[3133 rows x 4 columns]"
      ]
     },
     "execution_count": 13,
     "metadata": {},
     "output_type": "execute_result"
    }
   ],
   "source": [
    "df_selected = df.loc[:,['name','year','song_name','performed_by']]\n",
    "df_selected"
   ]
  },
  {
   "cell_type": "code",
   "execution_count": 14,
   "metadata": {},
   "outputs": [],
   "source": [
    "# df_selected['performed_by'].isna().sum()"
   ]
  },
  {
   "cell_type": "markdown",
   "metadata": {},
   "source": [
    "drop all movies/series that don't have any soundtrack"
   ]
  },
  {
   "cell_type": "code",
   "execution_count": 15,
   "metadata": {},
   "outputs": [
    {
     "data": {
      "text/plain": [
       "168"
      ]
     },
     "execution_count": 15,
     "metadata": {},
     "output_type": "execute_result"
    }
   ],
   "source": [
    "filter_mask = df_selected['song_name'] == \"It looks like we don't have any Soundtracks for this title yet.\"\n",
    "filter_mask.sum()\n"
   ]
  },
  {
   "cell_type": "code",
   "execution_count": 16,
   "metadata": {},
   "outputs": [
    {
     "data": {
      "text/html": [
       "<div>\n",
       "<style scoped>\n",
       "    .dataframe tbody tr th:only-of-type {\n",
       "        vertical-align: middle;\n",
       "    }\n",
       "\n",
       "    .dataframe tbody tr th {\n",
       "        vertical-align: top;\n",
       "    }\n",
       "\n",
       "    .dataframe thead th {\n",
       "        text-align: right;\n",
       "    }\n",
       "</style>\n",
       "<table border=\"1\" class=\"dataframe\">\n",
       "  <thead>\n",
       "    <tr style=\"text-align: right;\">\n",
       "      <th></th>\n",
       "      <th>name</th>\n",
       "      <th>year</th>\n",
       "      <th>song_name</th>\n",
       "      <th>performed_by</th>\n",
       "    </tr>\n",
       "  </thead>\n",
       "  <tbody>\n",
       "    <tr>\n",
       "      <th>0</th>\n",
       "      <td>The Shawshank Redemption</td>\n",
       "      <td>1994</td>\n",
       "      <td>If I Didn't Care</td>\n",
       "      <td>The Ink Spots</td>\n",
       "    </tr>\n",
       "    <tr>\n",
       "      <th>1</th>\n",
       "      <td>The Shawshank Redemption</td>\n",
       "      <td>1994</td>\n",
       "      <td>Duettino - Sull'aria</td>\n",
       "      <td>Edith Mathis (uncredited) and Gundula Janowitz...</td>\n",
       "    </tr>\n",
       "    <tr>\n",
       "      <th>2</th>\n",
       "      <td>The Shawshank Redemption</td>\n",
       "      <td>1994</td>\n",
       "      <td>Put The Blame On Mame</td>\n",
       "      <td>NaN</td>\n",
       "    </tr>\n",
       "    <tr>\n",
       "      <th>3</th>\n",
       "      <td>The Shawshank Redemption</td>\n",
       "      <td>1994</td>\n",
       "      <td>Lovesick Blues</td>\n",
       "      <td>Hank Williams</td>\n",
       "    </tr>\n",
       "    <tr>\n",
       "      <th>4</th>\n",
       "      <td>The Shawshank Redemption</td>\n",
       "      <td>1994</td>\n",
       "      <td>Willie and The Hand Jive</td>\n",
       "      <td>NaN</td>\n",
       "    </tr>\n",
       "    <tr>\n",
       "      <th>...</th>\n",
       "      <td>...</td>\n",
       "      <td>...</td>\n",
       "      <td>...</td>\n",
       "      <td>...</td>\n",
       "    </tr>\n",
       "    <tr>\n",
       "      <th>2960</th>\n",
       "      <td>Flames</td>\n",
       "      <td>2018</td>\n",
       "      <td>Khamoshiyan</td>\n",
       "      <td>Kumar Sanu and Alka Yagnik</td>\n",
       "    </tr>\n",
       "    <tr>\n",
       "      <th>2961</th>\n",
       "      <td>Modern Family</td>\n",
       "      <td>2009</td>\n",
       "      <td>Circle Of Life</td>\n",
       "      <td>Elton John</td>\n",
       "    </tr>\n",
       "    <tr>\n",
       "      <th>2962</th>\n",
       "      <td>Modern Family</td>\n",
       "      <td>2009</td>\n",
       "      <td>Modern Family Main Theme</td>\n",
       "      <td>NaN</td>\n",
       "    </tr>\n",
       "    <tr>\n",
       "      <th>2963</th>\n",
       "      <td>Modern Family</td>\n",
       "      <td>2009</td>\n",
       "      <td>We're All In This Together</td>\n",
       "      <td>Ty Burrell</td>\n",
       "    </tr>\n",
       "    <tr>\n",
       "      <th>2964</th>\n",
       "      <td>Luther</td>\n",
       "      <td>2010</td>\n",
       "      <td>Paradise Circus</td>\n",
       "      <td>Massive Attack</td>\n",
       "    </tr>\n",
       "  </tbody>\n",
       "</table>\n",
       "<p>2965 rows × 4 columns</p>\n",
       "</div>"
      ],
      "text/plain": [
       "                          name  year                    song_name  \\\n",
       "0     The Shawshank Redemption  1994            If I Didn't Care    \n",
       "1     The Shawshank Redemption  1994        Duettino - Sull'aria    \n",
       "2     The Shawshank Redemption  1994       Put The Blame On Mame    \n",
       "3     The Shawshank Redemption  1994              Lovesick Blues    \n",
       "4     The Shawshank Redemption  1994    Willie and The Hand Jive    \n",
       "...                        ...   ...                          ...   \n",
       "2960                    Flames  2018                 Khamoshiyan    \n",
       "2961             Modern Family  2009              Circle Of Life    \n",
       "2962             Modern Family  2009    Modern Family Main Theme    \n",
       "2963             Modern Family  2009  We're All In This Together    \n",
       "2964                    Luther  2010             Paradise Circus    \n",
       "\n",
       "                                           performed_by  \n",
       "0                                        The Ink Spots   \n",
       "1     Edith Mathis (uncredited) and Gundula Janowitz...  \n",
       "2                                                   NaN  \n",
       "3                                        Hank Williams   \n",
       "4                                                   NaN  \n",
       "...                                                 ...  \n",
       "2960                        Kumar Sanu and Alka Yagnik   \n",
       "2961                                         Elton John  \n",
       "2962                                                NaN  \n",
       "2963                                         Ty Burrell  \n",
       "2964                                     Massive Attack  \n",
       "\n",
       "[2965 rows x 4 columns]"
      ]
     },
     "execution_count": 16,
     "metadata": {},
     "output_type": "execute_result"
    }
   ],
   "source": [
    "df_selected = df_selected[~filter_mask]\n",
    "df_selected.reset_index(drop=True, inplace=True)\n",
    "df_selected\n"
   ]
  },
  {
   "cell_type": "markdown",
   "metadata": {},
   "source": [
    "Rename duplicate movie titles into unique ones"
   ]
  },
  {
   "cell_type": "code",
   "execution_count": 17,
   "metadata": {},
   "outputs": [
    {
     "data": {
      "text/plain": [
       "Index(['Persona', 'The Office'], dtype='object', name='name')"
      ]
     },
     "execution_count": 17,
     "metadata": {},
     "output_type": "execute_result"
    }
   ],
   "source": [
    "# Find the titles that exist in more than one year\n",
    "movie_counts = df_selected.groupby('name')['year'].nunique()\n",
    "movie_counts[movie_counts > 1].index\n",
    "# movie_counts"
   ]
  },
  {
   "cell_type": "code",
   "execution_count": 18,
   "metadata": {},
   "outputs": [
    {
     "data": {
      "text/html": [
       "<div>\n",
       "<style scoped>\n",
       "    .dataframe tbody tr th:only-of-type {\n",
       "        vertical-align: middle;\n",
       "    }\n",
       "\n",
       "    .dataframe tbody tr th {\n",
       "        vertical-align: top;\n",
       "    }\n",
       "\n",
       "    .dataframe thead th {\n",
       "        text-align: right;\n",
       "    }\n",
       "</style>\n",
       "<table border=\"1\" class=\"dataframe\">\n",
       "  <thead>\n",
       "    <tr style=\"text-align: right;\">\n",
       "      <th></th>\n",
       "      <th>name</th>\n",
       "      <th>year</th>\n",
       "      <th>song_name</th>\n",
       "      <th>performed_by</th>\n",
       "    </tr>\n",
       "  </thead>\n",
       "  <tbody>\n",
       "    <tr>\n",
       "      <th>2497</th>\n",
       "      <td>Persona</td>\n",
       "      <td>1966</td>\n",
       "      <td>Adagio from Concerto No. 2 in E major for Viol...</td>\n",
       "      <td>NaN</td>\n",
       "    </tr>\n",
       "    <tr>\n",
       "      <th>2631</th>\n",
       "      <td>The Office</td>\n",
       "      <td>2005</td>\n",
       "      <td>The Office Theme</td>\n",
       "      <td>The Scrantones</td>\n",
       "    </tr>\n",
       "    <tr>\n",
       "      <th>2632</th>\n",
       "      <td>The Office</td>\n",
       "      <td>2005</td>\n",
       "      <td>Stars</td>\n",
       "      <td>NaN</td>\n",
       "    </tr>\n",
       "    <tr>\n",
       "      <th>2638</th>\n",
       "      <td>Persona</td>\n",
       "      <td>2018</td>\n",
       "      <td>Agâh Makami</td>\n",
       "      <td>Haluk Bilginer and Rubato</td>\n",
       "    </tr>\n",
       "    <tr>\n",
       "      <th>2874</th>\n",
       "      <td>The Office</td>\n",
       "      <td>2001</td>\n",
       "      <td>Handbags and Gladrags</td>\n",
       "      <td>Fin</td>\n",
       "    </tr>\n",
       "  </tbody>\n",
       "</table>\n",
       "</div>"
      ],
      "text/plain": [
       "            name  year                                          song_name  \\\n",
       "2497     Persona  1966  Adagio from Concerto No. 2 in E major for Viol...   \n",
       "2631  The Office  2005                                  The Office Theme    \n",
       "2632  The Office  2005                                             Stars    \n",
       "2638     Persona  2018                                       Agâh Makami    \n",
       "2874  The Office  2001                             Handbags and Gladrags    \n",
       "\n",
       "                   performed_by  \n",
       "2497                        NaN  \n",
       "2631             The Scrantones  \n",
       "2632                        NaN  \n",
       "2638  Haluk Bilginer and Rubato  \n",
       "2874                       Fin   "
      ]
     },
     "execution_count": 18,
     "metadata": {},
     "output_type": "execute_result"
    }
   ],
   "source": [
    "duplicate_titles_df = df_selected[df_selected['name'].isin(movie_counts[movie_counts > 1].index)]\n",
    "duplicate_titles_df"
   ]
  },
  {
   "cell_type": "code",
   "execution_count": 19,
   "metadata": {},
   "outputs": [
    {
     "data": {
      "text/html": [
       "<div>\n",
       "<style scoped>\n",
       "    .dataframe tbody tr th:only-of-type {\n",
       "        vertical-align: middle;\n",
       "    }\n",
       "\n",
       "    .dataframe tbody tr th {\n",
       "        vertical-align: top;\n",
       "    }\n",
       "\n",
       "    .dataframe thead th {\n",
       "        text-align: right;\n",
       "    }\n",
       "</style>\n",
       "<table border=\"1\" class=\"dataframe\">\n",
       "  <thead>\n",
       "    <tr style=\"text-align: right;\">\n",
       "      <th></th>\n",
       "      <th>name</th>\n",
       "      <th>year</th>\n",
       "      <th>song_name</th>\n",
       "      <th>performed_by</th>\n",
       "    </tr>\n",
       "  </thead>\n",
       "  <tbody>\n",
       "    <tr>\n",
       "      <th>2631</th>\n",
       "      <td>The Office</td>\n",
       "      <td>2005</td>\n",
       "      <td>The Office Theme</td>\n",
       "      <td>The Scrantones</td>\n",
       "    </tr>\n",
       "    <tr>\n",
       "      <th>2632</th>\n",
       "      <td>The Office</td>\n",
       "      <td>2005</td>\n",
       "      <td>Stars</td>\n",
       "      <td>NaN</td>\n",
       "    </tr>\n",
       "  </tbody>\n",
       "</table>\n",
       "</div>"
      ],
      "text/plain": [
       "            name  year          song_name    performed_by\n",
       "2631  The Office  2005  The Office Theme   The Scrantones\n",
       "2632  The Office  2005             Stars              NaN"
      ]
     },
     "execution_count": 19,
     "metadata": {},
     "output_type": "execute_result"
    }
   ],
   "source": [
    "df_selected[(df_selected.name == 'The Office') & (df_selected.year == 2005)]"
   ]
  },
  {
   "cell_type": "code",
   "execution_count": 20,
   "metadata": {},
   "outputs": [],
   "source": [
    "df_selected.loc[(df_selected.name == 'The Office') & (df_selected.year == 2005), 'name'] = 'The Office (US)'"
   ]
  },
  {
   "cell_type": "code",
   "execution_count": 21,
   "metadata": {},
   "outputs": [],
   "source": [
    "df_selected.loc[(df_selected.name == 'The Office') & (df_selected.year == 2001), 'name'] = 'The Office (UK)'"
   ]
  },
  {
   "cell_type": "code",
   "execution_count": 22,
   "metadata": {},
   "outputs": [],
   "source": [
    "df_selected.loc[(df_selected.name == 'Persona') & (df_selected.year == 1966), 'name'] = 'Persona (1966)'"
   ]
  },
  {
   "cell_type": "code",
   "execution_count": 23,
   "metadata": {},
   "outputs": [],
   "source": [
    "df_selected.loc[(df_selected.name == 'Persona') & (df_selected.year == 1966), 'name'] = 'Persona (2018)'"
   ]
  },
  {
   "cell_type": "markdown",
   "metadata": {},
   "source": [
    "remove leading and trailing whitespace"
   ]
  },
  {
   "cell_type": "code",
   "execution_count": 24,
   "metadata": {},
   "outputs": [],
   "source": [
    "df_selected = df_selected.map(lambda x: x.strip() if isinstance(x, str) else x)"
   ]
  },
  {
   "cell_type": "code",
   "execution_count": 25,
   "metadata": {},
   "outputs": [
    {
     "data": {
      "text/plain": [
       "name               0\n",
       "year            2965\n",
       "song_name          0\n",
       "performed_by    1304\n",
       "dtype: int64"
      ]
     },
     "execution_count": 25,
     "metadata": {},
     "output_type": "execute_result"
    }
   ],
   "source": [
    "# check if it was successful\n",
    "mask_trailing_whitespace = df_selected.map(lambda x: isinstance(x, str) and x.strip() == x)\n",
    "(~mask_trailing_whitespace).sum()"
   ]
  },
  {
   "cell_type": "markdown",
   "metadata": {},
   "source": [
    "write df_selected to csv file"
   ]
  },
  {
   "cell_type": "code",
   "execution_count": 551,
   "metadata": {},
   "outputs": [],
   "source": [
    "df_selected.to_csv(\"..\\\\data\\\\filtered_movie_songs_no_idx.csv\", index=False)"
   ]
  }
 ],
 "metadata": {
  "kernelspec": {
   "display_name": "Python 3",
   "language": "python",
   "name": "python3"
  },
  "language_info": {
   "codemirror_mode": {
    "name": "ipython",
    "version": 3
   },
   "file_extension": ".py",
   "mimetype": "text/x-python",
   "name": "python",
   "nbconvert_exporter": "python",
   "pygments_lexer": "ipython3",
   "version": "3.11.4"
  }
 },
 "nbformat": 4,
 "nbformat_minor": 2
}
